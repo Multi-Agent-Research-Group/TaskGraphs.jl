{
 "cells": [
  {
   "cell_type": "code",
   "execution_count": 1,
   "metadata": {},
   "outputs": [],
   "source": [
    "using Pkg\n",
    "Pkg.activate(joinpath(Pkg.devdir(),\"TaskGraphs\"));"
   ]
  },
  {
   "cell_type": "code",
   "execution_count": 2,
   "metadata": {},
   "outputs": [
    {
     "name": "stderr",
     "output_type": "stream",
     "text": [
      "┌ Info: Recompiling stale cache file /home/kylebrown/.julia/compiled/v1.0/TaskGraphs/apcwx.ji for TaskGraphs [6635cb54-791c-11e9-2805-8512ad3937f9]\n",
      "└ @ Base loading.jl:1190\n",
      "WARNING: Method definition (::Type{TaskGraphs.TaskGraphsCore.PathSpec})(TaskGraphs.TaskGraphsCore.PathSpec) in module TaskGraphsCore at /home/kylebrown/.julia/packages/Parameters/NholY/src/Parameters.jl:526 overwritten at /home/kylebrown/.julia/dev/TaskGraphs/src/task_graphs_core.jl:394.\n",
      "WARNING: Method definition choose_random_object_sizes(Any) in module TaskGraphsUtils at /home/kylebrown/.julia/dev/TaskGraphs/src/utils.jl:375 overwritten at /home/kylebrown/.julia/dev/TaskGraphs/src/utils.jl:390.\n"
     ]
    }
   ],
   "source": [
    "using TaskGraphs"
   ]
  },
  {
   "cell_type": "code",
   "execution_count": 3,
   "metadata": {},
   "outputs": [],
   "source": [
    "using CRCBS\n",
    "using LightGraphs, MetaGraphs\n",
    "using LinearAlgebra\n",
    "using DataStructures\n",
    "# using JuMP, MathOptInterface\n",
    "# using Gurobi\n",
    "using TOML\n",
    "using Random\n",
    "\n",
    "using GraphUtils"
   ]
  },
  {
   "cell_type": "code",
   "execution_count": 4,
   "metadata": {
    "scrolled": true
   },
   "outputs": [
    {
     "name": "stderr",
     "output_type": "stream",
     "text": [
      "┌ Info: Recompiling stale cache file /home/kylebrown/.julia/compiled/v1.0/GraphPlottingBFS/dviWk.ji for GraphPlottingBFS [277fd268-772f-11e9-01e2-fbbcabd1ad4a]\n",
      "└ @ Base loading.jl:1190\n",
      "┌ Info: Recompiling stale cache file /home/kylebrown/.julia/compiled/v1.0/Gadfly/DvECm.ji for Gadfly [c91e804a-d5a3-530f-b6f0-dfbca275c004]\n",
      "└ @ Base loading.jl:1190\n",
      "┌ Info: Loading DataFrames support into Gadfly.jl\n",
      "└ @ Gadfly /home/kylebrown/.julia/packages/Gadfly/09PWZ/src/mapping.jl:228\n",
      "┌ Info: Recompiling stale cache file /home/kylebrown/.julia/compiled/v1.0/PGFPlotsX/ckKEQ.ji for PGFPlotsX [8314cec4-20b6-5062-9cdb-752b83310925]\n",
      "└ @ Base loading.jl:1190\n"
     ]
    }
   ],
   "source": [
    "include(joinpath(dirname(pathof(TaskGraphs)),\"..\",\"test\",\"notebooks\",\"render_tools.jl\"));"
   ]
  },
  {
   "cell_type": "markdown",
   "metadata": {},
   "source": [
    "# Experiments:"
   ]
  },
  {
   "cell_type": "markdown",
   "metadata": {},
   "source": [
    "Generate 4 environments for all experiments"
   ]
  },
  {
   "cell_type": "code",
   "execution_count": null,
   "metadata": {},
   "outputs": [],
   "source": [
    "# env_graphs = []\n",
    "# envs = []\n",
    "# num_obstacle_cells = 64\n",
    "# for (i,n) in enumerate([2,4,8])\n",
    "#     obs_w = Int(sqrt(num_obstacle_cells)/n)\n",
    "#     env = construct_regular_factory_world(;\n",
    "#         n_obstacles_x=n,\n",
    "#         n_obstacles_y=n,\n",
    "#         obs_width = [obs_w;obs_w],\n",
    "#         obs_offset = [obs_w;obs_w],\n",
    "#         env_pad = [1;1],\n",
    "#         env_offset = [1,1],\n",
    "#         env_scale = 1 # this is essentially the robot diameter\n",
    "#     )\n",
    "#     filename = string(TaskGraphs.ENVIRONMENT_DIR,\"/env_\",i,\".toml\")\n",
    "#     open(filename,\"w\") do io\n",
    "#         TOML.print(io,env)\n",
    "#     end\n",
    "#     # graphics_filename = string(TaskGraphs.ENVIRONMENT_DIR,\"/env_\",i,\".svg\")\n",
    "#     # visualize_env(env) |> SVG(graphics_filename)\n",
    "#     push!(envs, env)\n",
    "# end"
   ]
  },
  {
   "cell_type": "code",
   "execution_count": null,
   "metadata": {},
   "outputs": [],
   "source": [
    "i = 2;\n",
    "set_default_plot_size(10cm,10cm);\n",
    "filename = string(TaskGraphs.ENVIRONMENT_DIR,\"/env_\",i,\".toml\");\n",
    "factory_env = read_env(filename);\n",
    "env_graph = factory_env.graph;\n",
    "dist_matrix = get_dist_matrix(env_graph);\n",
    "p = visualize_env(factory_env)\n",
    "# p |> PDF(joinpath(\"/home/kylebrown/Repositories/task_graphs_icra_paper/graphics\",\"env_graph.pdf\"))"
   ]
  },
  {
   "cell_type": "markdown",
   "metadata": {},
   "source": [
    "# Record Video"
   ]
  },
  {
   "cell_type": "code",
   "execution_count": null,
   "metadata": {},
   "outputs": [],
   "source": [
    "problem_id = 134\n",
    "results_filename = joinpath(RESULTS_DIR,string(:full_solver),string(\"results\",problem_id,\".toml\"))\n",
    "toml_dict = TOML.parsefile(results_filename);\n",
    "robot_paths = Vector{Vector{Int}}(toml_dict[\"robot_paths\"]);\n",
    "# object_paths = Vector{Vector{Int}}(toml_dict[\"object_paths\"]);\n",
    "# tf = maximum(map(p->length(p),robot_paths))\n",
    "# set_default_plot_size(18cm,18cm)\n",
    "# record_video(joinpath(VIDEO_DIR,string(\"problem\",problem_id,\".webm\")),t->render_paths(t,robot_paths,object_paths);tf=tf)"
   ]
  },
  {
   "cell_type": "markdown",
   "metadata": {},
   "source": [
    "# Load results into dataframes"
   ]
  },
  {
   "cell_type": "code",
   "execution_count": null,
   "metadata": {},
   "outputs": [],
   "source": [
    "N_problems = 384\n",
    "problem_dir = PROBLEM_DIR\n",
    "results_dir = RESULTS_DIR\n",
    "# results_dir = joinpath(EXPERIMENT_DIR,\"adjacency_solver/results\")\n",
    "config_df = construct_config_dataframe(problem_dir,N_problems);"
   ]
  },
  {
   "cell_type": "code",
   "execution_count": null,
   "metadata": {},
   "outputs": [],
   "source": [
    "df_dict = construct_result_dataframes(problem_dir,results_dir,N_problems)"
   ]
  },
  {
   "cell_type": "markdown",
   "metadata": {},
   "source": [
    "# Display experimental results"
   ]
  },
  {
   "cell_type": "code",
   "execution_count": null,
   "metadata": {},
   "outputs": [],
   "source": [
    "# preprocessing\n",
    "function preprocess_results!(df_dict)\n",
    "    for (k,df) in df_dict\n",
    "        begin df[!,:depth_bias_string] = string.(df.depth_bias)\n",
    "            df\n",
    "        end\n",
    "        begin df[!,:N_string] = string.(df.N)\n",
    "            df\n",
    "        end\n",
    "        sort!(df, (:M,:N))\n",
    "    end\n",
    "    df_dict\n",
    "end"
   ]
  },
  {
   "cell_type": "code",
   "execution_count": null,
   "metadata": {},
   "outputs": [],
   "source": [
    "function robots_vs_task_vs_time_box_plot(df;\n",
    "        title=\"Solution time by Number of Robots (N) and Number of Tasks (M)\",\n",
    "        yticks=[-1,0,1,2],\n",
    "        ymin=-1.5,\n",
    "        ymax=2.3,\n",
    "        y_bounds=[0.01,100.0],\n",
    "        big_font=14pt,\n",
    "        small_font=12pt,\n",
    "    )\n",
    "    latex_fonts = Theme(major_label_font=\"CMU Serif\", major_label_font_size=big_font,\n",
    "                    minor_label_font=\"CMU Serif\", minor_label_font_size=small_font,\n",
    "                    key_title_font=\"CMU Serif\", key_title_font_size=small_font,\n",
    "                    key_label_font=\"CMU Serif\", key_label_font_size=small_font)\n",
    "    \n",
    "    plot(df, xgroup=:M, x=:N_string, y=:time, color=:N_string,\n",
    "    Geom.subplot_grid(\n",
    "        Geom.boxplot(;suppress_outliers=true),\n",
    "        Coord.cartesian(; ymin=ymin, ymax=ymax),\n",
    "        Guide.yticks(;ticks=yticks),\n",
    "        Guide.xticks(;label=false),\n",
    "#         Guide.xlabel(\"Num Robots\",orientation=:horizontal),\n",
    "        ),\n",
    "    Guide.title(title),\n",
    "    Guide.colorkey(title=\"number of robots\", labels=[\"10\",\"20\",\"30\",\"40\"], pos=[0.1w,-0.32h]),\n",
    "    Scale.group_discrete(labels=M->string(M,\" Tasks\"),levels=[10,20,30,40,60]),\n",
    "    Guide.xlabel(\"number of tasks\"),\n",
    "    Guide.ylabel(\"computation time (s)\"),\n",
    "    Scale.y_log10(minvalue=y_bounds[1],maxvalue=y_bounds[2]),\n",
    "    latex_fonts\n",
    ")\n",
    "end\n",
    "set_default_plot_size(28cm,12cm)"
   ]
  },
  {
   "cell_type": "code",
   "execution_count": null,
   "metadata": {},
   "outputs": [],
   "source": [
    "# p1 = robots_vs_task_vs_time_box_plot(df_dict[:full_solver]; \n",
    "#     title=\"Full Algorithm\")\n",
    "# # p1 |> PDF(\"FullAlgorithm.pdf\", 20cm, 12cm)\n",
    "# # p1"
   ]
  },
  {
   "cell_type": "code",
   "execution_count": null,
   "metadata": {},
   "outputs": [],
   "source": [
    "N_problems = 384\n",
    "problem_dir = PROBLEM_DIR\n",
    "# results_dir = RESULTS_DIR\n",
    "results_dir = joinpath(EXPERIMENT_DIR,\"assignment_solver/results\")\n",
    "df_dict1 = construct_result_dataframes(problem_dir,results_dir,N_problems)\n",
    "preprocess_results!(df_dict1)\n",
    "p1 = hstack(\n",
    "    robots_vs_task_vs_time_box_plot(\n",
    "        df_dict1[:assignment_only]; \n",
    "        title=\"Assignment Only (with Assignment MILP)\",big_font=12pt,small_font=10pt),\n",
    "    robots_vs_task_vs_time_box_plot(\n",
    "        df_dict1[:low_level_search_without_repair]; \n",
    "        title=\"low Level Search (with Assignment MILP)\",big_font=12pt,small_font=10pt)\n",
    "    )"
   ]
  },
  {
   "cell_type": "code",
   "execution_count": null,
   "metadata": {},
   "outputs": [],
   "source": [
    "N_problems = 384\n",
    "problem_dir = PROBLEM_DIR\n",
    "results_dir = joinpath(EXPERIMENT_DIR,\"sparse_adjacency_solver/results\")\n",
    "df_dict2 = construct_result_dataframes(problem_dir,results_dir,N_problems)\n",
    "preprocess_results!(df_dict2)\n",
    "p1 = hstack(\n",
    "    robots_vs_task_vs_time_box_plot(\n",
    "        df_dict1[:assignment_only]; \n",
    "        title=\"Assignment Only (with Assignment MILP)\",big_font=12pt,small_font=10pt),\n",
    "    robots_vs_task_vs_time_box_plot(\n",
    "        df_dict2[:assignment_only]; \n",
    "        title=\"Assignment Only (with Sparse Adjacency MILP)\",big_font=12pt,small_font=10pt)\n",
    "    )"
   ]
  },
  {
   "cell_type": "code",
   "execution_count": null,
   "metadata": {},
   "outputs": [],
   "source": [
    "p3 |> SVG(\"SparseMILP.svg\", 20cm, 12cm)"
   ]
  },
  {
   "cell_type": "code",
   "execution_count": null,
   "metadata": {
    "scrolled": true
   },
   "outputs": [],
   "source": [
    "# set_default_plot_size(20cm,9cm)\n",
    "# p3 = robots_vs_task_vs_time_box_plot(\n",
    "#     df_dict[:low_level_search_with_repair];title=nothing,yticks=[-1,0,1],ymin=-1.5,ymax=0.2)"
   ]
  },
  {
   "cell_type": "code",
   "execution_count": null,
   "metadata": {},
   "outputs": [],
   "source": [
    "using PGFPlotsX\n",
    "latexengine!(PGFPlotsX.PDFLATEX)\n",
    "using Printf"
   ]
  },
  {
   "cell_type": "code",
   "execution_count": null,
   "metadata": {},
   "outputs": [],
   "source": [
    "function get_runtime_box_plot(df;obj=:time,m_range=10:10:60,n_range=10:10:40,ymin=0.007,title=\"\",nsym=\"n\",msym=\"m\",)\n",
    "    @pgf gp = GroupPlot({group_style = { \n",
    "                \"group name\"=\"myPlots\",\n",
    "                \"group size\"=\"6 by 1\",\n",
    "                \"xlabels at\"=\"edge bottom\",\n",
    "                \"xticklabels at\"=\"edge bottom\",\n",
    "                \"vertical sep\"=\"0pt\",\n",
    "                \"horizontal sep\"=\"2pt\"\n",
    "            },\n",
    "            boxplot,\n",
    "            \"boxplot/draw direction\"=\"y\",\n",
    "            # axis lines=left,\n",
    "            # hide axis,\n",
    "            ymode=\"log\",\n",
    "            footnotesize,\n",
    "            width=\"3.25cm\",\n",
    "            height=\"6cm\",\n",
    "            xmin=0, \n",
    "            xmax=5,\n",
    "            ymin=ymin,\n",
    "            ymax=120,\n",
    "            xtick=[10,20,30,40],\n",
    "            xticklabels=[10,20,30,40],\n",
    "            tickpos=\"left\",\n",
    "            ytick=[0.1,1,10,100],\n",
    "            yticklabels=[],\n",
    "            \"ylabel shift\"=\"0pt\",\n",
    "            \"ytick align\"=\"outside\",\n",
    "            \"xtick align\"=\"outside\"});\n",
    "\n",
    "    @pgf for (i,m) in enumerate(m_range)\n",
    "        if i == 1\n",
    "            push!(gp, \n",
    "                {xlabel=@sprintf(\"\\$%s=%i\\$\",msym,m),\n",
    "                ylabel=\"time (s)\",\n",
    "                yticklabels=[0.1,1,10,100],\n",
    "                \"legend style\"=\"{draw=none,xshift=2pt}\",\n",
    "                \"legend pos\"=\"north west\"},\n",
    "                map(n->LegendEntry({},@sprintf(\"\\$%s=%i\\$\",nsym,n),false),n_range)...,\n",
    "                \"\"\"\n",
    "                \\\\addlegendimage{no markers,blue}\n",
    "                \\\\addlegendimage{no markers,red}\n",
    "                \\\\addlegendimage{no markers,brown}\n",
    "                \\\\addlegendimage{no markers,black}\n",
    "                \"\"\",\n",
    "                map(n->PGFPlotsX.PlotInc({boxplot},Table(\n",
    "                            {\"y index\"=0},\n",
    "                            [:data=>df[(df.M .== m) .& (df.N .== n),obj]])),n_range)...)\n",
    "        else\n",
    "            push!(gp, {xlabel=@sprintf(\"\\$%s=%i\\$\",msym,m)}, \n",
    "                map(n->PGFPlotsX.PlotInc({boxplot},Table(\n",
    "                            {\"y index\"=0},\n",
    "                            [:data=>df[(df.M .== m) .& (df.N .== n),obj]])),n_range)...)\n",
    "        end\n",
    "    end;\n",
    "    if title != \"\"\n",
    "        tikzpic = @pgf TikzPicture({scale=0.7},\n",
    "            \"\"\"\n",
    "            \\\\centering\n",
    "            \"\"\",\n",
    "            gp,\n",
    "            @sprintf(\"\"\"\n",
    "            \\\\node (title) at (\\$(myPlots c1r1.center)!0.5!(myPlots c2r1.center)+(3.3cm,2.55cm)\\$) {\\\\textbf{%s}};\n",
    "            \"\"\",title)\n",
    "        )\n",
    "    else\n",
    "        tikzpic = @pgf TikzPicture({scale=0.7},\n",
    "            \"\"\"\n",
    "            \\\\centering\n",
    "            \"\"\",\n",
    "            gp\n",
    "        )\n",
    "    end\n",
    "    return tikzpic\n",
    "end\n",
    "\n",
    "# print_tex(gp)"
   ]
  },
  {
   "cell_type": "code",
   "execution_count": null,
   "metadata": {},
   "outputs": [],
   "source": [
    "# mode_list = [:full_solver,:assignment_only,:low_level_search_without_repair,:low_level_search_with_repair]\n",
    "mode_list = [:full_solver]\n",
    "tmin = minimum(map(MODE->minimum(df_dict[MODE].time),mode_list))"
   ]
  },
  {
   "cell_type": "code",
   "execution_count": null,
   "metadata": {},
   "outputs": [],
   "source": [
    "# gp = get_runtime_box_plot(df_dict[:full_solver];ymin=tmin)"
   ]
  },
  {
   "cell_type": "code",
   "execution_count": null,
   "metadata": {},
   "outputs": [],
   "source": [
    "# titles = Dict(\n",
    "#     :full_solver => \"Runtime of Full \\\\PCTAPF{} Solver\",\n",
    "#     :assignment_only => \"Runtime of Task Assignment MILP Solver\",\n",
    "#     :low_level_search_with_repair => \"Runtime of \\\\LevelThreeLong{}\",\n",
    "#     :low_level_search_without_repair => \"Runtime of \\\\LevelThreeLong{}\",\n",
    "# )\n",
    "titles = Dict(\n",
    "    :full_solver => \"Experimental Results (Runtime)\",\n",
    "    :assignment_only => \"\",\n",
    "    :low_level_search_with_repair => \"\",\n",
    "    :low_level_search_without_repair => \"\",\n",
    ")\n",
    "for MODE in [:full_solver,:assignment_only,:low_level_search_without_repair,:low_level_search_with_repair]\n",
    "    gp = get_runtime_box_plot(df_dict[MODE];ymin=tmin,title=titles[MODE])\n",
    "#     open(joinpath(\"/home/kylebrown/Repositories/task_graphs_icra_paper/graphics\",string(MODE,\".tex\")),\"w\") do io\n",
    "    open(string(MODE,\".tex\"),\"w\") do io\n",
    "        print_tex(io, gp)\n",
    "    end\n",
    "end"
   ]
  },
  {
   "cell_type": "code",
   "execution_count": null,
   "metadata": {},
   "outputs": [],
   "source": []
  }
 ],
 "metadata": {
  "kernelspec": {
   "display_name": "Julia 1.0.2",
   "language": "julia",
   "name": "julia-1.0"
  },
  "language_info": {
   "file_extension": ".jl",
   "mimetype": "application/julia",
   "name": "julia",
   "version": "1.0.2"
  }
 },
 "nbformat": 4,
 "nbformat_minor": 2
}
