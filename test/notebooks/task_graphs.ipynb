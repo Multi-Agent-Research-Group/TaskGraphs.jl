{
 "cells": [
  {
   "cell_type": "markdown",
   "metadata": {},
   "source": [
    "# Task Graphs Problem Formulation"
   ]
  },
  {
   "cell_type": "code",
   "execution_count": null,
   "metadata": {},
   "outputs": [],
   "source": [
    "using LightGraphs, MetaGraphs, GraphUtils\n",
    "using Parameters\n",
    "using LinearAlgebra\n",
    "using Compose\n",
    "using Colors\n",
    "using TaskGraphs\n",
    "using GraphPlottingBFS\n",
    "using DataStructures\n",
    "using JuMP, MathOptInterface\n",
    "# using GLPK\n",
    "using Gurobi"
   ]
  },
  {
   "cell_type": "markdown",
   "metadata": {},
   "source": [
    "# Setup Problem"
   ]
  },
  {
   "cell_type": "markdown",
   "metadata": {},
   "source": [
    "***\n",
    "The `project_spec` describes:\n",
    "1. the inputs, outputs and process time of operations that must be performed at manufacturing stations \n",
    "2. the dependencies between those operation (e.g. op 3 requires the outputs of op 1 and op 2"
   ]
  },
  {
   "cell_type": "code",
   "execution_count": null,
   "metadata": {
    "scrolled": false
   },
   "outputs": [],
   "source": [
    "N = 120                  # num robots\n",
    "M = 120                  # num delivery tasks\n",
    "# project_spec = construct_random_project_spec(M;max_parents=3,depth_bias=1.0,Δt_min=0,Δt_max=0)\n",
    "project_spec1 = construct_random_project_spec(Int(M/2);max_parents=3,depth_bias=0.25,Δt_min=0,Δt_max=0)\n",
    "project_spec2 = construct_random_project_spec(Int(M/2);max_parents=3,depth_bias=0.25,Δt_min=0,Δt_max=0)\n",
    "project_spec = combine_project_specs([project_spec1, project_spec2])\n",
    "plot_graph_bfs(project_spec.graph;mode=nothing,fillcolor=\"orange\")"
   ]
  },
  {
   "cell_type": "markdown",
   "metadata": {},
   "source": [
    "***\n",
    "The `delivery_graph` describes the delivery tasks that must be completed by robots in order to meet preconditions (objects 1 and 2 at station 3) for the prescribed operations"
   ]
  },
  {
   "cell_type": "code",
   "execution_count": null,
   "metadata": {
    "scrolled": true
   },
   "outputs": [],
   "source": [
    "delivery_graph = construct_delivery_graph(project_spec,M)\n",
    "r₀,s₀,sₜ = initialize_random_2D_task_graph_env(N,M;d=[400,400])\n",
    "Drs, Dss = cached_pickup_and_delivery_distances(r₀,s₀,sₜ)\n",
    "G = delivery_graph.graph\n",
    "# initialize vector of operation times\n",
    "Δt = zeros(nv(G)) # Δt[j] is the wait time for the object j to appear once all inputs have been satisfied\n",
    "for op in project_spec.operations\n",
    "    for id in get_output_ids(op)\n",
    "        Δt[id] = duration(op)\n",
    "    end\n",
    "end\n",
    "plot_graph_bfs(delivery_graph.graph;mode=nothing)"
   ]
  },
  {
   "cell_type": "code",
   "execution_count": null,
   "metadata": {},
   "outputs": [],
   "source": [
    "# set initial conditions\n",
    "to0_ = Dict{Int,Float64}()\n",
    "for v in vertices(G)\n",
    "    if is_leaf_node(G,v)\n",
    "        to0_[v] = 0.0\n",
    "    end\n",
    "end\n",
    "tr0_ = Dict{Int,Float64}()\n",
    "for i in 1:N\n",
    "    tr0_[i] = 0.0\n",
    "end"
   ]
  },
  {
   "cell_type": "markdown",
   "metadata": {},
   "source": [
    "# Solve as MILP"
   ]
  },
  {
   "cell_type": "code",
   "execution_count": null,
   "metadata": {},
   "outputs": [],
   "source": [
    "model = formulate_JuMP_optimization_problem(G,Drs,Dss,Δt,to0_,tr0_,Gurobi.Optimizer;OutputFlag=0);\n",
    "start_time = time()\n",
    "optimize!(model)\n",
    "solve_time = time() - start_time\n",
    "optimal = (termination_status(model) == MathOptInterface.TerminationStatusCode(1))\n",
    "@show solve_time\n",
    "@show optimal;\n",
    "assignment = Matrix{Int}(value.(model[:x]));"
   ]
  },
  {
   "cell_type": "markdown",
   "metadata": {},
   "source": [
    "## Process solution (compute slack and convert assignment matrix into task sequences)"
   ]
  },
  {
   "cell_type": "code",
   "execution_count": null,
   "metadata": {},
   "outputs": [],
   "source": [
    "spec = TaskGraphProblemSpec(N,M,G,Drs,Dss,Δt,tr0_,to0_)\n",
    "cache = SearchCache(N,M,to0_,tr0_)\n",
    "for j in 1:M\n",
    "    i = findfirst(assignment[:,j] .== 1)\n",
    "    cache.x[i,j] = 1\n",
    "end\n",
    "cache = process_solution(model,cache,spec);"
   ]
  }
 ],
 "metadata": {
  "kernelspec": {
   "display_name": "Julia 1.0.2",
   "language": "julia",
   "name": "julia-1.0"
  },
  "language_info": {
   "file_extension": ".jl",
   "mimetype": "application/julia",
   "name": "julia",
   "version": "1.0.2"
  }
 },
 "nbformat": 4,
 "nbformat_minor": 2
}
