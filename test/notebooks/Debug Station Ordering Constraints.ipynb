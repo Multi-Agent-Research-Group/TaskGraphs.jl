{
 "cells": [
  {
   "cell_type": "code",
   "execution_count": 4,
   "metadata": {},
   "outputs": [
    {
     "data": {
      "text/plain": [
       "\"/home/kylebrown/.julia/dev/TaskGraphs/Project.toml\""
      ]
     },
     "execution_count": 4,
     "metadata": {},
     "output_type": "execute_result"
    }
   ],
   "source": [
    "using Pkg\n",
    "Pkg.activate(joinpath(Pkg.devdir(), \"TaskGraphs\"))"
   ]
  },
  {
   "cell_type": "code",
   "execution_count": 6,
   "metadata": {},
   "outputs": [],
   "source": [
    "using LightGraphs, MetaGraphs, GraphUtils\n",
    "using LinearAlgebra\n",
    "using TaskGraphs\n",
    "using Gurobi\n",
    "using JuMP, MathOptInterface\n",
    "using TOML"
   ]
  },
  {
   "cell_type": "code",
   "execution_count": 47,
   "metadata": {},
   "outputs": [
    {
     "name": "stdout",
     "output_type": "stream",
     "text": [
      "Academic license - for non-commercial use only\n",
      "(j, j2) = (1, 2)\n",
      "(j, j2, s0[j], s0[j2]) = (1, 2, 5, 5)\n",
      "Academic license - for non-commercial use only\n",
      "optimal = true\n",
      "optimal_TA_cost = 8\n"
     ]
    },
    {
     "data": {
      "text/plain": [
       "8"
      ]
     },
     "execution_count": 47,
     "metadata": {},
     "output_type": "execute_result"
    }
   ],
   "source": [
    "i = 1\n",
    "project_spec, problem_spec, robot_ICs, assignments, env_graph = initialize_toy_problem_9(;\n",
    "        verbose=false,Δt_op=0,Δt_collect=[i,0],Δt_deliver=[0,0]\n",
    "        );\n",
    "model = formulate_JuMP_optimization_problem(problem_spec,Gurobi.Optimizer;cost_model=:SumOfMakeSpans)\n",
    "optimize!(model)\n",
    "optimal = (termination_status(model) == MathOptInterface.OPTIMAL)\n",
    "optimal_TA_cost = Int(round(value(objective_function(model))));\n",
    "@show optimal\n",
    "@show optimal_TA_cost"
   ]
  },
  {
   "cell_type": "code",
   "execution_count": 48,
   "metadata": {},
   "outputs": [
    {
     "name": "stdout",
     "output_type": "stream",
     "text": [
      "Int.(round.(value.(model[:x]))) = [0 1; 1 0; 0 0; 0 0]\n",
      "to0 = [0, 0]\n",
      "tor = [2, 1]\n",
      "toc = [3, 1]\n",
      "tod = [6, 2]\n",
      "tof = [6, 2]\n"
     ]
    }
   ],
   "source": [
    "to0 = Int.(round.(value.(model[:to0])))\n",
    "tor = Int.(round.(value.(model[:tor])))\n",
    "toc = Int.(round.(value.(model[:toc])))\n",
    "tod = Int.(round.(value.(model[:tod])))\n",
    "tof = Int.(round.(value.(model[:tof])))\n",
    "@show Int.(round.(value.(model[:x])))\n",
    "@show to0\n",
    "@show tor\n",
    "@show toc\n",
    "@show tod\n",
    "@show tof;"
   ]
  },
  {
   "cell_type": "code",
   "execution_count": 43,
   "metadata": {},
   "outputs": [],
   "source": [
    "function TaskGraphs.formulate_JuMP_optimization_problem(G,Drs,Dss,Δt,Δt_collect,Δt_deliver,to0_,tr0_,root_nodes,weights,s0,sF,optimizer;\n",
    "    TimeLimit=100,\n",
    "    OutputFlag=0,\n",
    "    cost_model=:MakeSpan\n",
    "    )\n",
    "\n",
    "    model = Model(with_optimizer(optimizer,\n",
    "        TimeLimit=TimeLimit,\n",
    "        OutputFlag=OutputFlag\n",
    "        ))\n",
    "    M = size(Dss,1)\n",
    "    N = size(Drs,1)-M\n",
    "    @variable(model, to0[1:M] >= 0.0) # object availability time\n",
    "    @variable(model, tor[1:M] >= 0.0) # object robot arrival time\n",
    "    @variable(model, toc[1:M] >= 0.0) # object collection complete time\n",
    "    @variable(model, tod[1:M] >= 0.0) # object deliver begin time\n",
    "    @variable(model, tof[1:M] >= 0.0) # object termination time\n",
    "    @variable(model, tr0[1:N+M] >= 0.0) # robot availability time\n",
    "\n",
    "    # Assignment matrix x\n",
    "    @variable(model, x[1:N+M,1:M], binary = true) # x[i,j] ∈ {0,1}\n",
    "    @constraint(model, x * ones(M) .<= 1)         # each robot may have no more than 1 task\n",
    "    @constraint(model, x' * ones(N+M) .== 1)      # each task must have exactly 1 assignment\n",
    "    for (i,t) in tr0_\n",
    "        # start time for robot i\n",
    "        @constraint(model, tr0[i] == t)\n",
    "    end\n",
    "    for (j,t) in to0_\n",
    "        # start time for task j (applies only to tasks with no prereqs)\n",
    "        @constraint(model, to0[j] == t)\n",
    "    end\n",
    "    # constraints\n",
    "    Mm = Matrix{Float64}(I,N+M,N+M) * (sum(Drs) + sum(Dss)) # for big-M constraints\n",
    "    MMm = typemax(Int) # sum(Drs) + sum(Dss) # for scalar big-M constraints in station ordering\n",
    "    for j in 1:M\n",
    "        # constraint on task start time\n",
    "        if !is_leaf_node(G,j)\n",
    "            for v in inneighbors(G,j)\n",
    "                @constraint(model, to0[j] >= tof[v] + Δt[j])\n",
    "            end\n",
    "        end\n",
    "        # constraint on dummy robot start time (corresponds to moment of object delivery)\n",
    "        @constraint(model, tr0[j+N] == tof[j])\n",
    "        # dummy robots can't do upstream jobs\n",
    "        upstream_jobs = [j, map(e->e.dst,collect(edges(bfs_tree(G,j;dir=:in))))...]\n",
    "        for v in upstream_jobs\n",
    "            @constraint(model, x[j+N,v] == 0)\n",
    "        end\n",
    "        # lower bound on task completion time (task can't start until it's available).\n",
    "        # tof[j] = to0[j] + Dss[j,j] + slack[j]\n",
    "        @constraint(model, tor[j] >= to0[j])\n",
    "#         @constraint(model, tof[j] >= tor[j] + Dss[j,j] + Δt_collect[j] + Δt_deliver[j])\n",
    "        # bound on task completion time (assigned robot must first complete delivery)\n",
    "        # Big M constraint (thanks Oriana!): When x[i,j] == 1, this constrains the final time\n",
    "        # to be no less than the time it takes for the delivery to be completed by robot i.\n",
    "        # When x[i,j] == 0, this constrains the final time to be greater than a large negative\n",
    "        # number (meaning that this is a trivial constraint)        \n",
    "        @constraint(model, tor[j] .- (tr0 + Drs[:,j]) .>= -Mm*(1 .- x[:,j]))\n",
    "        @constraint(model, toc[j] == tor[j] + Δt_collect[j])\n",
    "        @constraint(model, tod[j] == toc[j] + Dss[j,j])\n",
    "        @constraint(model, tof[j] == tod[j] + Δt_deliver[j])\n",
    "#         @constraint(model, tof[j] >= tor[j] + Dss[j,j] + Δt_collect[j] + Δt_deliver[j])\n",
    "        # \"Job-shop\" constraints specifying that no station may be double-booked. A station\n",
    "        # can only support a single COLLECT or DEPOSIT operation at a time, meaning that all\n",
    "        # the windows for these operations cannot overlap. In the constraints below, t1 and t2\n",
    "        # represent the intervals for the COLLECT or DEPOSIT operations of tasks j and j2, \n",
    "        # respectively. If eny of the operations for these two tasks require use of the same \n",
    "        # station, we introduce a 2D binary variable y. if y = [1,0], the operation for task \n",
    "        # j must occur before the operation for task j2. The opposite is true for y == [0,1]. \n",
    "        # We use the big M method here as well to tightly enforce the binary constraints.\n",
    "        for j2 in j+1:M\n",
    "            if (s0[j] == s0[j2]) || (s0[j] == sF[j2]) || (sF[j] == s0[j2]) || (sF[j] == sF[j2])\n",
    "                @show j, j2\n",
    "                if s0[j] == s0[j2]\n",
    "                    @show j, j2, s0[j], s0[j2]\n",
    "                    t1 = [tor[j], toc[j]]\n",
    "                    t2 = [tor[j2], toc[j2]]\n",
    "                elseif s0[j] == sF[j2]\n",
    "                    @show j, j2, s0[j], sF[j2]\n",
    "                    t1 = [tor[j], toc[j]]\n",
    "                    t2 = [tod[j2], tof[j2]]\n",
    "                elseif sF[j] == s0[j2]\n",
    "                    @show j, j2, sF[j], s0[j2]\n",
    "                    t1 = [tod[j], tof[j]]\n",
    "                    t2 = [tor[j2], toc[j2]]\n",
    "                elseif sF[j] == sF[j2]\n",
    "                    @show j, j2, sF[j], sF[j2]\n",
    "                    t1 = [tod, tof[j]]\n",
    "                    t2 = [tod, tof[j2]]\n",
    "                end\n",
    "                tmax = @variable(model)\n",
    "                tmin = @variable(model)\n",
    "                y = @variable(model, binary=true)\n",
    "                @constraint(model, tmax >= t1[1])\n",
    "                @constraint(model, tmax >= t2[1])\n",
    "                @constraint(model, tmin <= t1[2])\n",
    "                @constraint(model, tmin <= t2[2])\n",
    "                \n",
    "                @constraint(model, tmax - t2[1] <= (1 - y)*MMm)\n",
    "                @constraint(model, tmax - t1[1] <= y*MMm)\n",
    "                @constraint(model, tmin - t1[2] >= (1 - y)*-MMm)\n",
    "                @constraint(model, tmin - t2[2] >= y*-MMm)\n",
    "#                 @constraint(model, t1[2] - tmin <= (1 - y)*MMm)\n",
    "#                 @constraint(model, t2[2] - tmin <= y*MMm)\n",
    "                @constraint(model, tmin + 1 <= tmax)\n",
    "            end\n",
    "        end\n",
    "    end\n",
    "    # cost depends only on root node(s)\n",
    "    # @objective(model, Min, tof[M])\n",
    "    if cost_model == :SumOfMakeSpans\n",
    "        @objective(model, Min, sum(map(v->tof[v]*get(weights,v,0.0), root_nodes)))\n",
    "    elseif cost_model == :MakeSpan\n",
    "        @variable(model, T)\n",
    "        @constraint(model, T .>= tof)\n",
    "        @objective(model, Min, T)\n",
    "    end\n",
    "    model;\n",
    "end"
   ]
  },
  {
   "cell_type": "code",
   "execution_count": null,
   "metadata": {},
   "outputs": [],
   "source": []
  }
 ],
 "metadata": {
  "kernelspec": {
   "display_name": "Julia 1.0.2",
   "language": "julia",
   "name": "julia-1.0"
  },
  "language_info": {
   "file_extension": ".jl",
   "mimetype": "application/julia",
   "name": "julia",
   "version": "1.0.2"
  }
 },
 "nbformat": 4,
 "nbformat_minor": 2
}
