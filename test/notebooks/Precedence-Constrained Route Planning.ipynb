{
 "cells": [
  {
   "cell_type": "code",
   "execution_count": 1,
   "metadata": {},
   "outputs": [],
   "source": [
    "using Pkg\n",
    "Pkg.activate(joinpath(Pkg.devdir(),\"WebotsSim\"));"
   ]
  },
  {
   "cell_type": "code",
   "execution_count": 3,
   "metadata": {
    "scrolled": false
   },
   "outputs": [],
   "source": [
    "using LightGraphs, MetaGraphs\n",
    "using DataStructures\n",
    "using JuMP, MathOptInterface\n",
    "using Gurobi\n",
    "using TOML\n",
    "using Random\n",
    "\n",
    "using GraphUtils\n",
    "using TaskGraphs\n",
    "using CRCBS\n",
    "using WebotsSim"
   ]
  },
  {
   "cell_type": "code",
   "execution_count": 4,
   "metadata": {},
   "outputs": [
    {
     "name": "stderr",
     "output_type": "stream",
     "text": [
      "┌ Info: Recompiling stale cache file /home/kylebrown/.julia/compiled/v1.0/Fontconfig/k95Ux.ji for Fontconfig [186bb1d3-e1f7-5a2c-a377-96d770f13627]\n",
      "└ @ Base loading.jl:1190\n",
      "ERROR: LoadError: Fontconfig.jl not properly installed. Please run `Pkg.build(\"Fontconfig\")` and restart Julia.\n",
      "Stacktrace:\n",
      " [1] error(::String) at ./error.jl:33\n",
      " [2] top-level scope at /home/kylebrown/.julia/packages/Fontconfig/EPLI0/src/Fontconfig.jl:7\n",
      " [3] include at ./boot.jl:317 [inlined]\n",
      " [4] include_relative(::Module, ::String) at ./loading.jl:1044\n",
      " [5] include(::Module, ::String) at ./sysimg.jl:29\n",
      " [6] top-level scope at none:2\n",
      " [7] eval at ./boot.jl:319 [inlined]\n",
      " [8] eval(::Expr) at ./client.jl:393\n",
      " [9] top-level scope at ./none:3\n",
      "in expression starting at /home/kylebrown/.julia/packages/Fontconfig/EPLI0/src/Fontconfig.jl:4\n"
     ]
    },
    {
     "ename": "LoadError",
     "evalue": "Failed to precompile Fontconfig [186bb1d3-e1f7-5a2c-a377-96d770f13627] to /home/kylebrown/.julia/compiled/v1.0/Fontconfig/k95Ux.ji.",
     "output_type": "error",
     "traceback": [
      "Failed to precompile Fontconfig [186bb1d3-e1f7-5a2c-a377-96d770f13627] to /home/kylebrown/.julia/compiled/v1.0/Fontconfig/k95Ux.ji.",
      "",
      "Stacktrace:",
      " [1] error(::String) at ./error.jl:33",
      " [2] macro expansion at ./logging.jl:311 [inlined]",
      " [3] compilecache(::Base.PkgId, ::String) at ./loading.jl:1190",
      " [4] macro expansion at ./logging.jl:309 [inlined]",
      " [5] _require(::Base.PkgId) at ./loading.jl:947",
      " [6] require(::Base.PkgId) at ./loading.jl:858",
      " [7] macro expansion at ./logging.jl:309 [inlined]",
      " [8] require(::Module, ::Symbol) at ./loading.jl:840",
      " [9] include at ./boot.jl:317 [inlined]",
      " [10] include_relative(::Module, ::String) at ./loading.jl:1044",
      " [11] include(::Module, ::String) at ./sysimg.jl:29",
      " [12] include(::String) at ./client.jl:392",
      " [13] top-level scope at In[4]:1"
     ]
    }
   ],
   "source": [
    "include(joinpath(dirname(pathof(WebotsSim)),\"..\",\"test\",\"notebooks\",\"render_tools.jl\"));"
   ]
  },
  {
   "cell_type": "markdown",
   "metadata": {},
   "source": [
    "# Toy Problem"
   ]
  },
  {
   "cell_type": "code",
   "execution_count": null,
   "metadata": {},
   "outputs": [],
   "source": [
    "project_spec, problem_spec, robot_ICs, assignments, env_graph = initialize_toy_problem_3(;verbose=false);\n",
    "\n",
    "env = construct_search_env(project_spec, problem_spec, robot_ICs, assignments, env_graph);\n",
    "pc_mapf = PC_MAPF(env);\n",
    "node = initialize_root_node(pc_mapf);\n",
    "solver = PC_TAPF_Solver();"
   ]
  },
  {
   "cell_type": "code",
   "execution_count": null,
   "metadata": {},
   "outputs": [],
   "source": [
    "plot_graph_bfs(project_spec.graph)"
   ]
  },
  {
   "cell_type": "code",
   "execution_count": null,
   "metadata": {},
   "outputs": [],
   "source": [
    "plot_graph_bfs(problem_spec.graph)"
   ]
  },
  {
   "cell_type": "code",
   "execution_count": null,
   "metadata": {},
   "outputs": [],
   "source": [
    "rg = get_display_metagraph(env.schedule;f=(v,p)->string(v,\",\",get_path_spec(env.schedule,v).path_id,\",\",get_path_spec(env.schedule,v).agent_id))\n",
    "# rg = get_display_metagraph(env.schedule;f=(v,p)->string(env.cache.t0[v],\" - \",env.cache.tF[v],\n",
    "#         \"\\n\",env.cache.local_slack[v],\" - \",env.cache.slack[v]))\n",
    "plot_graph_bfs(rg)"
   ]
  },
  {
   "cell_type": "markdown",
   "metadata": {},
   "source": [
    "# Generate a random problem instance"
   ]
  },
  {
   "cell_type": "code",
   "execution_count": null,
   "metadata": {},
   "outputs": [],
   "source": [
    "N = 8\n",
    "M = 16\n",
    "i = 2\n",
    "# experiment_dir = joinpath(dirname(pathof(WebotsSim)),\"..\",\"experiments\")\n",
    "\n",
    "filename = string(WebotsSim.ENVIRONMENT_DIR,\"/env_\",i,\".toml\");\n",
    "factory_env = read_env(filename);\n",
    "\n",
    "Random.seed!(0);\n",
    "project_spec, problem_spec, robot_ICs, env_graph = initialize_test_problem(N,M);\n",
    "\n",
    "r0 = [get_id(get_location_id(robot_ICs[k])) for k in 1:problem_spec.N];\n",
    "s0 = [get_id(get_location_id(project_spec.initial_conditions[k])) for k in 1:problem_spec.M];"
   ]
  },
  {
   "cell_type": "code",
   "execution_count": null,
   "metadata": {},
   "outputs": [],
   "source": [
    "# Task Assignment\n",
    "model = formulate_optimization_problem(problem_spec,Gurobi.Optimizer;OutputFlag=0);\n",
    "optimize!(model);\n",
    "optimal = (termination_status(model) == MathOptInterface.OPTIMAL);\n",
    "@show optimal;\n",
    "assignment_matrix = get_assignment_matrix(model);\n",
    "assignments = map(j->findfirst(assignment_matrix[:,j] .== 1),1:M);\n",
    "optimal_TA_cost = maximum(Int.(round.(value.(model[:tof])))); # lower bound on cost (from task assignment module)"
   ]
  },
  {
   "cell_type": "code",
   "execution_count": null,
   "metadata": {},
   "outputs": [],
   "source": [
    "# Routing\n",
    "project_schedule = construct_project_schedule(project_spec, problem_spec, robot_ICs, assignments);\n",
    "env = construct_search_env(project_spec, problem_spec, robot_ICs, assignments, env_graph);\n",
    "pc_mapf = PC_MAPF(env);\n",
    "node = initialize_root_node(pc_mapf);\n",
    "solver = PC_TAPF_Solver(verbosity=1);"
   ]
  },
  {
   "cell_type": "code",
   "execution_count": null,
   "metadata": {},
   "outputs": [],
   "source": [
    "# for i in 1:get_num_vtxs(env.schedule)+1\n",
    "#     plan_next_path!(solver,env,mapf,node);\n",
    "# end\n",
    "# paths1 = convert_to_vertex_lists(node.solution)\n",
    "# reset_cache!(env.cache, env.schedule)\n",
    "# for i in 1:get_num_vtxs(env.schedule)+1\n",
    "#     plan_next_path!(solver,env,mapf,node);\n",
    "# end\n",
    "# paths2 = convert_to_vertex_lists(node.solution)\n",
    "\n",
    "# tf = maximum(map(p->length(p),paths1))\n",
    "# # set_default_plot_size(15cm,15cm)\n",
    "# # record_video(\"paths1.webm\",t->render_paths(t,paths1))\n",
    "# # record_video(\"paths2.webm\",t->render_paths(t,paths2))\n",
    "# # set_default_plot_size(30cm,15cm)\n",
    "# record_video(\"side_by_side.webm\",t->render_both(t,paths1,paths2);tf=tf,s=(8inch,4inch))"
   ]
  },
  {
   "cell_type": "markdown",
   "metadata": {},
   "source": [
    "# Solve a large problem instance with the full algorithm"
   ]
  },
  {
   "cell_type": "code",
   "execution_count": null,
   "metadata": {
    "scrolled": false
   },
   "outputs": [],
   "source": [
    "N = 20\n",
    "M = 30\n",
    "Random.seed!(1);\n",
    "project_spec, problem_spec, robot_ICs, env_graph = initialize_test_problem(N,M);\n",
    "solver = PC_TAPF_Solver(verbosity=0,max_A_star_iterations=10*nv(env_graph));\n",
    "solution, cost = high_level_search!(solver, env_graph, project_spec, problem_spec, robot_ICs, Gurobi.Optimizer);\n",
    "conflict_table = detect_conflicts(get_paths(solution));\n",
    "@test !CRCBS.is_valid(get_next_conflict(conflict_table))"
   ]
  },
  {
   "cell_type": "code",
   "execution_count": null,
   "metadata": {},
   "outputs": [],
   "source": [
    "conflict_table = detect_conflicts(get_paths(solution))\n",
    "@show CRCBS.is_valid(get_next_conflict(conflict_table));"
   ]
  },
  {
   "cell_type": "code",
   "execution_count": null,
   "metadata": {
    "scrolled": true
   },
   "outputs": [],
   "source": [
    "r0 = [get_id(get_location_id(robot_ICs[k])) for k in 1:problem_spec.N];\n",
    "s0 = [get_id(get_location_id(project_spec.initial_conditions[k])) for k in 1:problem_spec.M];"
   ]
  },
  {
   "cell_type": "code",
   "execution_count": null,
   "metadata": {},
   "outputs": [],
   "source": [
    "paths = convert_to_vertex_lists(solution)\n",
    "tf = maximum(map(p->length(p),paths))\n",
    "set_default_plot_size(15cm,15cm)\n",
    "record_video(\"large_problem_paths.webm\",t->render_paths(t,paths);tf=tf,s=(8inch,8inch))"
   ]
  },
  {
   "cell_type": "code",
   "execution_count": null,
   "metadata": {},
   "outputs": [],
   "source": []
  }
 ],
 "metadata": {
  "kernelspec": {
   "display_name": "Julia 1.0.2",
   "language": "julia",
   "name": "julia-1.0"
  },
  "language_info": {
   "file_extension": ".jl",
   "mimetype": "application/julia",
   "name": "julia",
   "version": "1.0.2"
  }
 },
 "nbformat": 4,
 "nbformat_minor": 2
}
